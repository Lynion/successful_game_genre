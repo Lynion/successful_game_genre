{
 "cells": [
  {
   "cell_type": "markdown",
   "id": "eb01c9f2",
   "metadata": {},
   "source": [
    "# i. Introduction\n",
    "Nama: Dylan Sherwood Hanenkang\n",
    "\n",
    "Project ini melakukan analisis data dan melakukan tes statistik (inferensial dan deskriptif) untuk menentukan genre game yang akan dibuat oleh JoGames Studio untuk mendapatkan penggemar-penggemar baru. "
   ]
  },
  {
   "cell_type": "markdown",
   "id": "790018ef",
   "metadata": {},
   "source": [
    "# ii. Problem Statement and Dataset Description"
   ]
  },
  {
   "cell_type": "markdown",
   "id": "e2db1646",
   "metadata": {},
   "source": [
    "## Topik Permasalahan:"
   ]
  },
  {
   "cell_type": "markdown",
   "id": "86cc3735",
   "metadata": {},
   "source": [
    "JoGames Studio ingin mencari tahu genre game yang paling cocok untuk membuat game selanjutnya agar mendapat penggemar baru dan menambah sales game yang mereka buat kedepannya"
   ]
  },
  {
   "cell_type": "markdown",
   "id": "deea982f",
   "metadata": {},
   "source": [
    "## Latar Belakang:\n"
   ]
  },
  {
   "cell_type": "markdown",
   "id": "949a2c92",
   "metadata": {},
   "source": [
    "Sebuah studio indie game development bernama JoGames Studio sedang kesusahan mencari penggemar baru. Mereka membutuhkan penggemar baru agar sales game mereka bertambah. Selama ini, mereka membuat game dengan genre yang sangat jarang interestnya di kalangan para penggemar game. Selain itu, karena team mereka kecil, maka durasi pembuatan sebuah game jika membuat game 3D, lumayan lama yaitu 5 tahun. Mereka ingin menambah fan dengan menambah genre game yang mereka keluarkan dalam jangka waktu yang masuk akal.\n"
   ]
  },
  {
   "cell_type": "markdown",
   "id": "74d23688",
   "metadata": {},
   "source": [
    "## SMART Analysis:\n"
   ]
  },
  {
   "cell_type": "markdown",
   "id": "7000fd40",
   "metadata": {},
   "source": [
    "Specific: Meningkatkan jumlah penggemar dengan menambahkan variasi genre game yang dikeluarkan dalam jangka waktu yang relatif pendek\n",
    "\n",
    "Measurable: Menambah jumlah penggemar sebanyak 15% dari menambah variasi game yang dikeluarkan dalam jangka waktu yang relatif pendek\n",
    "\n",
    "Achievable: Dengan mempercepat game release dan menambah variasi genre game yang dikeluarkan, menambah jumlah penggemar sebanyak 15% dapat dicapai.\n",
    "\n",
    "Relevant: Dengan membuat game dengan dimensi berbeda dapat mempercepat waktu pembuatan game yang kemudian akan mempercepat release game dengan variasi berbeda.\n",
    "\n",
    "Time-Bound: Target akan dicapai dalam kurun waktu 2-3 tahun"
   ]
  },
  {
   "cell_type": "markdown",
   "id": "77c7981e",
   "metadata": {},
   "source": [
    "## Problem Statement:"
   ]
  },
  {
   "cell_type": "markdown",
   "id": "03d566ac",
   "metadata": {},
   "source": [
    "Membuat game dengan dimensi berbeda dapat mempercepat pembuatan dan release game yang mengakibatkan target peningkatan jumlah penggemar sebanyak 15% dapat dicapai dalam kurun waktu 2-3 tahun."
   ]
  },
  {
   "cell_type": "markdown",
   "id": "a4ebd47b",
   "metadata": {},
   "source": [
    "## Problem Breakdown:"
   ]
  },
  {
   "cell_type": "markdown",
   "id": "4bbfc7da",
   "metadata": {},
   "source": [
    "- Genre game apa yang dalam 5 tahun terakhir paling banyak dan paling sedikit terjual?\n",
    "\n",
    "- Genre game apa yang secara keseluruhan memiliki total unit terjual paling banyak dan yang paling sedikit?\n",
    "\n",
    "- Region mana yang memiliki total sales terbaik per genre game?\n",
    "\n",
    "- Bagaimana rata-rata penjualan game per genre?\n",
    "\n",
    "- Bagaimana pengumpulan data penjualan global pada genre paling banyak terjual?\n",
    "\n",
    "- Apakah hipotesis bahwa jumlah penjualan genre game Adventure di region eropa lebih besar daripada penjualan genre simulation di region jepang benar?\n"
   ]
  },
  {
   "cell_type": "markdown",
   "id": "3d9fe625",
   "metadata": {},
   "source": [
    "## Dataset"
   ]
  },
  {
   "cell_type": "markdown",
   "id": "16aa4f42",
   "metadata": {},
   "source": [
    "Dataset diambil dari website dengan link: https://zenodo.org/records/5898311\n",
    "\n",
    "Kolom-kolom pada dataset dapat dijabarkan sebagai berikut:\n",
    "- Rank: Ranking dari semua sales\n",
    "- Name: Nama game\n",
    "- Platform: Platform releasenya game (contoh: PS4, GBA, PC, dsb)\n",
    "- Year: tahun release game\n",
    "- Publisher: Publisher dari game\n",
    "- NA_Sales: Sales game di Amerika Utara (dalam juta)\n",
    "- EU_Sales: Sales game di Eropa (dalam juta)\n",
    "- JP_Sales: Sales game di Jepang (dalam juta)\n",
    "- Other_Sales: Sales dari luar ketiga region diatas (NA, EU, JP)\n",
    "- Global_Sales: Total sales dari semua region"
   ]
  },
  {
   "cell_type": "markdown",
   "id": "c8ef25bf",
   "metadata": {},
   "source": [
    "# iii. Data Loading + Data Exploration"
   ]
  },
  {
   "cell_type": "code",
   "execution_count": 2,
   "id": "7ed5a0bf",
   "metadata": {},
   "outputs": [],
   "source": [
    "#untuk data cleaning, data loading, dan analisis\n",
    "import pandas as pd"
   ]
  },
  {
   "cell_type": "markdown",
   "id": "479d89d2",
   "metadata": {},
   "source": [
    "## Ambil Data Dari Dataset"
   ]
  },
  {
   "cell_type": "code",
   "execution_count": 3,
   "id": "763a971d",
   "metadata": {},
   "outputs": [
    {
     "data": {
      "text/html": [
       "<div>\n",
       "<style scoped>\n",
       "    .dataframe tbody tr th:only-of-type {\n",
       "        vertical-align: middle;\n",
       "    }\n",
       "\n",
       "    .dataframe tbody tr th {\n",
       "        vertical-align: top;\n",
       "    }\n",
       "\n",
       "    .dataframe thead th {\n",
       "        text-align: right;\n",
       "    }\n",
       "</style>\n",
       "<table border=\"1\" class=\"dataframe\">\n",
       "  <thead>\n",
       "    <tr style=\"text-align: right;\">\n",
       "      <th></th>\n",
       "      <th>Rank</th>\n",
       "      <th>Name</th>\n",
       "      <th>Platform</th>\n",
       "      <th>Year</th>\n",
       "      <th>Genre</th>\n",
       "      <th>Publisher</th>\n",
       "      <th>NA_Sales</th>\n",
       "      <th>EU_Sales</th>\n",
       "      <th>JP_Sales</th>\n",
       "      <th>Other_Sales</th>\n",
       "      <th>Global_Sales</th>\n",
       "    </tr>\n",
       "  </thead>\n",
       "  <tbody>\n",
       "    <tr>\n",
       "      <th>0</th>\n",
       "      <td>1</td>\n",
       "      <td>Wii Sports</td>\n",
       "      <td>Wii</td>\n",
       "      <td>2006.0</td>\n",
       "      <td>Sports</td>\n",
       "      <td>Nintendo</td>\n",
       "      <td>41.49</td>\n",
       "      <td>29.02</td>\n",
       "      <td>3.77</td>\n",
       "      <td>8.46</td>\n",
       "      <td>82.74</td>\n",
       "    </tr>\n",
       "    <tr>\n",
       "      <th>1</th>\n",
       "      <td>2</td>\n",
       "      <td>Super Mario Bros.</td>\n",
       "      <td>NES</td>\n",
       "      <td>1985.0</td>\n",
       "      <td>Platform</td>\n",
       "      <td>Nintendo</td>\n",
       "      <td>29.08</td>\n",
       "      <td>3.58</td>\n",
       "      <td>6.81</td>\n",
       "      <td>0.77</td>\n",
       "      <td>40.24</td>\n",
       "    </tr>\n",
       "    <tr>\n",
       "      <th>2</th>\n",
       "      <td>3</td>\n",
       "      <td>Mario Kart Wii</td>\n",
       "      <td>Wii</td>\n",
       "      <td>2008.0</td>\n",
       "      <td>Racing</td>\n",
       "      <td>Nintendo</td>\n",
       "      <td>15.85</td>\n",
       "      <td>12.88</td>\n",
       "      <td>3.79</td>\n",
       "      <td>3.31</td>\n",
       "      <td>35.82</td>\n",
       "    </tr>\n",
       "    <tr>\n",
       "      <th>3</th>\n",
       "      <td>4</td>\n",
       "      <td>Wii Sports Resort</td>\n",
       "      <td>Wii</td>\n",
       "      <td>2009.0</td>\n",
       "      <td>Sports</td>\n",
       "      <td>Nintendo</td>\n",
       "      <td>15.75</td>\n",
       "      <td>11.01</td>\n",
       "      <td>3.28</td>\n",
       "      <td>2.96</td>\n",
       "      <td>33.00</td>\n",
       "    </tr>\n",
       "    <tr>\n",
       "      <th>4</th>\n",
       "      <td>5</td>\n",
       "      <td>Pokemon Red/Pokemon Blue</td>\n",
       "      <td>GB</td>\n",
       "      <td>1996.0</td>\n",
       "      <td>Role-Playing</td>\n",
       "      <td>Nintendo</td>\n",
       "      <td>11.27</td>\n",
       "      <td>8.89</td>\n",
       "      <td>10.22</td>\n",
       "      <td>1.00</td>\n",
       "      <td>31.37</td>\n",
       "    </tr>\n",
       "    <tr>\n",
       "      <th>...</th>\n",
       "      <td>...</td>\n",
       "      <td>...</td>\n",
       "      <td>...</td>\n",
       "      <td>...</td>\n",
       "      <td>...</td>\n",
       "      <td>...</td>\n",
       "      <td>...</td>\n",
       "      <td>...</td>\n",
       "      <td>...</td>\n",
       "      <td>...</td>\n",
       "      <td>...</td>\n",
       "    </tr>\n",
       "    <tr>\n",
       "      <th>16593</th>\n",
       "      <td>16596</td>\n",
       "      <td>Woody Woodpecker in Crazy Castle 5</td>\n",
       "      <td>GBA</td>\n",
       "      <td>2002.0</td>\n",
       "      <td>Platform</td>\n",
       "      <td>Kemco</td>\n",
       "      <td>0.01</td>\n",
       "      <td>0.00</td>\n",
       "      <td>0.00</td>\n",
       "      <td>0.00</td>\n",
       "      <td>0.01</td>\n",
       "    </tr>\n",
       "    <tr>\n",
       "      <th>16594</th>\n",
       "      <td>16597</td>\n",
       "      <td>Men in Black II: Alien Escape</td>\n",
       "      <td>GC</td>\n",
       "      <td>2003.0</td>\n",
       "      <td>Shooter</td>\n",
       "      <td>Infogrames</td>\n",
       "      <td>0.01</td>\n",
       "      <td>0.00</td>\n",
       "      <td>0.00</td>\n",
       "      <td>0.00</td>\n",
       "      <td>0.01</td>\n",
       "    </tr>\n",
       "    <tr>\n",
       "      <th>16595</th>\n",
       "      <td>16598</td>\n",
       "      <td>SCORE International Baja 1000: The Official Game</td>\n",
       "      <td>PS2</td>\n",
       "      <td>2008.0</td>\n",
       "      <td>Racing</td>\n",
       "      <td>Activision</td>\n",
       "      <td>0.00</td>\n",
       "      <td>0.00</td>\n",
       "      <td>0.00</td>\n",
       "      <td>0.00</td>\n",
       "      <td>0.01</td>\n",
       "    </tr>\n",
       "    <tr>\n",
       "      <th>16596</th>\n",
       "      <td>16599</td>\n",
       "      <td>Know How 2</td>\n",
       "      <td>DS</td>\n",
       "      <td>2010.0</td>\n",
       "      <td>Puzzle</td>\n",
       "      <td>7G//AMES</td>\n",
       "      <td>0.00</td>\n",
       "      <td>0.01</td>\n",
       "      <td>0.00</td>\n",
       "      <td>0.00</td>\n",
       "      <td>0.01</td>\n",
       "    </tr>\n",
       "    <tr>\n",
       "      <th>16597</th>\n",
       "      <td>16600</td>\n",
       "      <td>Spirits &amp; Spells</td>\n",
       "      <td>GBA</td>\n",
       "      <td>2003.0</td>\n",
       "      <td>Platform</td>\n",
       "      <td>Wanadoo</td>\n",
       "      <td>0.01</td>\n",
       "      <td>0.00</td>\n",
       "      <td>0.00</td>\n",
       "      <td>0.00</td>\n",
       "      <td>0.01</td>\n",
       "    </tr>\n",
       "  </tbody>\n",
       "</table>\n",
       "<p>16598 rows × 11 columns</p>\n",
       "</div>"
      ],
      "text/plain": [
       "        Rank                                              Name Platform  \\\n",
       "0          1                                        Wii Sports      Wii   \n",
       "1          2                                 Super Mario Bros.      NES   \n",
       "2          3                                    Mario Kart Wii      Wii   \n",
       "3          4                                 Wii Sports Resort      Wii   \n",
       "4          5                          Pokemon Red/Pokemon Blue       GB   \n",
       "...      ...                                               ...      ...   \n",
       "16593  16596                Woody Woodpecker in Crazy Castle 5      GBA   \n",
       "16594  16597                     Men in Black II: Alien Escape       GC   \n",
       "16595  16598  SCORE International Baja 1000: The Official Game      PS2   \n",
       "16596  16599                                        Know How 2       DS   \n",
       "16597  16600                                  Spirits & Spells      GBA   \n",
       "\n",
       "         Year         Genre   Publisher  NA_Sales  EU_Sales  JP_Sales  \\\n",
       "0      2006.0        Sports    Nintendo     41.49     29.02      3.77   \n",
       "1      1985.0      Platform    Nintendo     29.08      3.58      6.81   \n",
       "2      2008.0        Racing    Nintendo     15.85     12.88      3.79   \n",
       "3      2009.0        Sports    Nintendo     15.75     11.01      3.28   \n",
       "4      1996.0  Role-Playing    Nintendo     11.27      8.89     10.22   \n",
       "...       ...           ...         ...       ...       ...       ...   \n",
       "16593  2002.0      Platform       Kemco      0.01      0.00      0.00   \n",
       "16594  2003.0       Shooter  Infogrames      0.01      0.00      0.00   \n",
       "16595  2008.0        Racing  Activision      0.00      0.00      0.00   \n",
       "16596  2010.0        Puzzle    7G//AMES      0.00      0.01      0.00   \n",
       "16597  2003.0      Platform     Wanadoo      0.01      0.00      0.00   \n",
       "\n",
       "       Other_Sales  Global_Sales  \n",
       "0             8.46         82.74  \n",
       "1             0.77         40.24  \n",
       "2             3.31         35.82  \n",
       "3             2.96         33.00  \n",
       "4             1.00         31.37  \n",
       "...            ...           ...  \n",
       "16593         0.00          0.01  \n",
       "16594         0.00          0.01  \n",
       "16595         0.00          0.01  \n",
       "16596         0.00          0.01  \n",
       "16597         0.00          0.01  \n",
       "\n",
       "[16598 rows x 11 columns]"
      ]
     },
     "execution_count": 3,
     "metadata": {},
     "output_type": "execute_result"
    }
   ],
   "source": [
    "df = pd.read_csv('P0M1_dylan_sherwood_dataset.csv')\n",
    "df"
   ]
  },
  {
   "cell_type": "markdown",
   "id": "6224514f",
   "metadata": {},
   "source": [
    "## Melakukan Data Exploration"
   ]
  },
  {
   "cell_type": "code",
   "execution_count": 4,
   "id": "57327bf5",
   "metadata": {},
   "outputs": [
    {
     "data": {
      "text/plain": [
       "Index(['Rank', 'Name', 'Platform', 'Year', 'Genre', 'Publisher', 'NA_Sales',\n",
       "       'EU_Sales', 'JP_Sales', 'Other_Sales', 'Global_Sales'],\n",
       "      dtype='object')"
      ]
     },
     "execution_count": 4,
     "metadata": {},
     "output_type": "execute_result"
    }
   ],
   "source": [
    "#cek nama kolom\n",
    "df.columns"
   ]
  },
  {
   "cell_type": "markdown",
   "id": "96d2a3cc",
   "metadata": {},
   "source": [
    "Tidak ada whitespace pada nama kolom jadi tidak perlu untuk membersihkan white space"
   ]
  },
  {
   "cell_type": "code",
   "execution_count": 5,
   "id": "14683c19",
   "metadata": {},
   "outputs": [
    {
     "data": {
      "text/plain": [
       "Rank              int64\n",
       "Name             object\n",
       "Platform         object\n",
       "Year            float64\n",
       "Genre            object\n",
       "Publisher        object\n",
       "NA_Sales        float64\n",
       "EU_Sales        float64\n",
       "JP_Sales        float64\n",
       "Other_Sales     float64\n",
       "Global_Sales    float64\n",
       "dtype: object"
      ]
     },
     "execution_count": 5,
     "metadata": {},
     "output_type": "execute_result"
    }
   ],
   "source": [
    "#cek tipe kolom\n",
    "df.dtypes"
   ]
  },
  {
   "cell_type": "markdown",
   "id": "19ccbc8a",
   "metadata": {},
   "source": [
    "Tipe kolom sudah sesuai semua. Tidak perlu mengganti tipe kolom"
   ]
  },
  {
   "cell_type": "code",
   "execution_count": 6,
   "id": "c31f8e48",
   "metadata": {},
   "outputs": [
    {
     "data": {
      "text/plain": [
       "(16598, 11)"
      ]
     },
     "execution_count": 6,
     "metadata": {},
     "output_type": "execute_result"
    }
   ],
   "source": [
    "#check jumlah data\n",
    "df.shape"
   ]
  },
  {
   "cell_type": "code",
   "execution_count": 7,
   "id": "f078047a",
   "metadata": {},
   "outputs": [
    {
     "name": "stdout",
     "output_type": "stream",
     "text": [
      "Rank\n",
      "False    16598\n",
      "Name: count, dtype: int64\n",
      "Name\n",
      "False    16598\n",
      "Name: count, dtype: int64\n",
      "Platform\n",
      "False    16598\n",
      "Name: count, dtype: int64\n",
      "Year\n",
      "False    16327\n",
      "True       271\n",
      "Name: count, dtype: int64\n",
      "Genre\n",
      "False    16598\n",
      "Name: count, dtype: int64\n",
      "Publisher\n",
      "False    16540\n",
      "True        58\n",
      "Name: count, dtype: int64\n",
      "NA_Sales\n",
      "False    16598\n",
      "Name: count, dtype: int64\n",
      "EU_Sales\n",
      "False    16598\n",
      "Name: count, dtype: int64\n",
      "JP_Sales\n",
      "False    16598\n",
      "Name: count, dtype: int64\n",
      "Other_Sales\n",
      "False    16598\n",
      "Name: count, dtype: int64\n",
      "Global_Sales\n",
      "False    16598\n",
      "Name: count, dtype: int64\n"
     ]
    }
   ],
   "source": [
    "#cek null values\n",
    "print(df.Rank.isnull().value_counts())\n",
    "print(df.Name.isnull().value_counts())\n",
    "print(df.Platform.isnull().value_counts())\n",
    "print(df.Year.isnull().value_counts())\n",
    "print(df.Genre.isnull().value_counts())\n",
    "print(df.Publisher.isnull().value_counts())\n",
    "print(df.NA_Sales.isnull().value_counts())\n",
    "print(df.EU_Sales.isnull().value_counts())\n",
    "print(df.JP_Sales.isnull().value_counts())\n",
    "print(df.Other_Sales.isnull().value_counts())\n",
    "print(df.Global_Sales.isnull().value_counts())"
   ]
  },
  {
   "cell_type": "markdown",
   "id": "334d636a",
   "metadata": {},
   "source": [
    "2 kolom memiliki null value: publisher dan year.\n",
    "\n",
    "Kolom publisher akan di-drop karena tidak dibutuhkan untuk melakukan analysis\n",
    "untuk kolom year yang memiliki null value, row yang ada null value pada year akan di drop\n"
   ]
  },
  {
   "cell_type": "code",
   "execution_count": 8,
   "id": "f95d7754",
   "metadata": {},
   "outputs": [
    {
     "data": {
      "text/plain": [
       "Genre\n",
       "Action          3316\n",
       "Sports          2346\n",
       "Misc            1739\n",
       "Role-Playing    1488\n",
       "Shooter         1310\n",
       "Adventure       1286\n",
       "Racing          1249\n",
       "Platform         886\n",
       "Simulation       867\n",
       "Fighting         848\n",
       "Strategy         681\n",
       "Puzzle           582\n",
       "Name: count, dtype: int64"
      ]
     },
     "execution_count": 8,
     "metadata": {},
     "output_type": "execute_result"
    }
   ],
   "source": [
    "df['Genre'].value_counts()"
   ]
  },
  {
   "cell_type": "markdown",
   "id": "0f7e48a8",
   "metadata": {},
   "source": [
    "# iv. Data Cleaning"
   ]
  },
  {
   "cell_type": "code",
   "execution_count": 9,
   "id": "432a5b69",
   "metadata": {},
   "outputs": [
    {
     "data": {
      "text/html": [
       "<div>\n",
       "<style scoped>\n",
       "    .dataframe tbody tr th:only-of-type {\n",
       "        vertical-align: middle;\n",
       "    }\n",
       "\n",
       "    .dataframe tbody tr th {\n",
       "        vertical-align: top;\n",
       "    }\n",
       "\n",
       "    .dataframe thead th {\n",
       "        text-align: right;\n",
       "    }\n",
       "</style>\n",
       "<table border=\"1\" class=\"dataframe\">\n",
       "  <thead>\n",
       "    <tr style=\"text-align: right;\">\n",
       "      <th></th>\n",
       "      <th>Rank</th>\n",
       "      <th>Name</th>\n",
       "      <th>Platform</th>\n",
       "      <th>Year</th>\n",
       "      <th>Genre</th>\n",
       "      <th>NA_Sales</th>\n",
       "      <th>EU_Sales</th>\n",
       "      <th>JP_Sales</th>\n",
       "      <th>Other_Sales</th>\n",
       "      <th>Global_Sales</th>\n",
       "    </tr>\n",
       "  </thead>\n",
       "  <tbody>\n",
       "    <tr>\n",
       "      <th>0</th>\n",
       "      <td>1</td>\n",
       "      <td>Wii Sports</td>\n",
       "      <td>Wii</td>\n",
       "      <td>2006.0</td>\n",
       "      <td>Sports</td>\n",
       "      <td>41.49</td>\n",
       "      <td>29.02</td>\n",
       "      <td>3.77</td>\n",
       "      <td>8.46</td>\n",
       "      <td>82.74</td>\n",
       "    </tr>\n",
       "    <tr>\n",
       "      <th>1</th>\n",
       "      <td>2</td>\n",
       "      <td>Super Mario Bros.</td>\n",
       "      <td>NES</td>\n",
       "      <td>1985.0</td>\n",
       "      <td>Platform</td>\n",
       "      <td>29.08</td>\n",
       "      <td>3.58</td>\n",
       "      <td>6.81</td>\n",
       "      <td>0.77</td>\n",
       "      <td>40.24</td>\n",
       "    </tr>\n",
       "    <tr>\n",
       "      <th>2</th>\n",
       "      <td>3</td>\n",
       "      <td>Mario Kart Wii</td>\n",
       "      <td>Wii</td>\n",
       "      <td>2008.0</td>\n",
       "      <td>Racing</td>\n",
       "      <td>15.85</td>\n",
       "      <td>12.88</td>\n",
       "      <td>3.79</td>\n",
       "      <td>3.31</td>\n",
       "      <td>35.82</td>\n",
       "    </tr>\n",
       "    <tr>\n",
       "      <th>3</th>\n",
       "      <td>4</td>\n",
       "      <td>Wii Sports Resort</td>\n",
       "      <td>Wii</td>\n",
       "      <td>2009.0</td>\n",
       "      <td>Sports</td>\n",
       "      <td>15.75</td>\n",
       "      <td>11.01</td>\n",
       "      <td>3.28</td>\n",
       "      <td>2.96</td>\n",
       "      <td>33.00</td>\n",
       "    </tr>\n",
       "    <tr>\n",
       "      <th>4</th>\n",
       "      <td>5</td>\n",
       "      <td>Pokemon Red/Pokemon Blue</td>\n",
       "      <td>GB</td>\n",
       "      <td>1996.0</td>\n",
       "      <td>Role-Playing</td>\n",
       "      <td>11.27</td>\n",
       "      <td>8.89</td>\n",
       "      <td>10.22</td>\n",
       "      <td>1.00</td>\n",
       "      <td>31.37</td>\n",
       "    </tr>\n",
       "    <tr>\n",
       "      <th>...</th>\n",
       "      <td>...</td>\n",
       "      <td>...</td>\n",
       "      <td>...</td>\n",
       "      <td>...</td>\n",
       "      <td>...</td>\n",
       "      <td>...</td>\n",
       "      <td>...</td>\n",
       "      <td>...</td>\n",
       "      <td>...</td>\n",
       "      <td>...</td>\n",
       "    </tr>\n",
       "    <tr>\n",
       "      <th>16593</th>\n",
       "      <td>16596</td>\n",
       "      <td>Woody Woodpecker in Crazy Castle 5</td>\n",
       "      <td>GBA</td>\n",
       "      <td>2002.0</td>\n",
       "      <td>Platform</td>\n",
       "      <td>0.01</td>\n",
       "      <td>0.00</td>\n",
       "      <td>0.00</td>\n",
       "      <td>0.00</td>\n",
       "      <td>0.01</td>\n",
       "    </tr>\n",
       "    <tr>\n",
       "      <th>16594</th>\n",
       "      <td>16597</td>\n",
       "      <td>Men in Black II: Alien Escape</td>\n",
       "      <td>GC</td>\n",
       "      <td>2003.0</td>\n",
       "      <td>Shooter</td>\n",
       "      <td>0.01</td>\n",
       "      <td>0.00</td>\n",
       "      <td>0.00</td>\n",
       "      <td>0.00</td>\n",
       "      <td>0.01</td>\n",
       "    </tr>\n",
       "    <tr>\n",
       "      <th>16595</th>\n",
       "      <td>16598</td>\n",
       "      <td>SCORE International Baja 1000: The Official Game</td>\n",
       "      <td>PS2</td>\n",
       "      <td>2008.0</td>\n",
       "      <td>Racing</td>\n",
       "      <td>0.00</td>\n",
       "      <td>0.00</td>\n",
       "      <td>0.00</td>\n",
       "      <td>0.00</td>\n",
       "      <td>0.01</td>\n",
       "    </tr>\n",
       "    <tr>\n",
       "      <th>16596</th>\n",
       "      <td>16599</td>\n",
       "      <td>Know How 2</td>\n",
       "      <td>DS</td>\n",
       "      <td>2010.0</td>\n",
       "      <td>Puzzle</td>\n",
       "      <td>0.00</td>\n",
       "      <td>0.01</td>\n",
       "      <td>0.00</td>\n",
       "      <td>0.00</td>\n",
       "      <td>0.01</td>\n",
       "    </tr>\n",
       "    <tr>\n",
       "      <th>16597</th>\n",
       "      <td>16600</td>\n",
       "      <td>Spirits &amp; Spells</td>\n",
       "      <td>GBA</td>\n",
       "      <td>2003.0</td>\n",
       "      <td>Platform</td>\n",
       "      <td>0.01</td>\n",
       "      <td>0.00</td>\n",
       "      <td>0.00</td>\n",
       "      <td>0.00</td>\n",
       "      <td>0.01</td>\n",
       "    </tr>\n",
       "  </tbody>\n",
       "</table>\n",
       "<p>16598 rows × 10 columns</p>\n",
       "</div>"
      ],
      "text/plain": [
       "        Rank                                              Name Platform  \\\n",
       "0          1                                        Wii Sports      Wii   \n",
       "1          2                                 Super Mario Bros.      NES   \n",
       "2          3                                    Mario Kart Wii      Wii   \n",
       "3          4                                 Wii Sports Resort      Wii   \n",
       "4          5                          Pokemon Red/Pokemon Blue       GB   \n",
       "...      ...                                               ...      ...   \n",
       "16593  16596                Woody Woodpecker in Crazy Castle 5      GBA   \n",
       "16594  16597                     Men in Black II: Alien Escape       GC   \n",
       "16595  16598  SCORE International Baja 1000: The Official Game      PS2   \n",
       "16596  16599                                        Know How 2       DS   \n",
       "16597  16600                                  Spirits & Spells      GBA   \n",
       "\n",
       "         Year         Genre  NA_Sales  EU_Sales  JP_Sales  Other_Sales  \\\n",
       "0      2006.0        Sports     41.49     29.02      3.77         8.46   \n",
       "1      1985.0      Platform     29.08      3.58      6.81         0.77   \n",
       "2      2008.0        Racing     15.85     12.88      3.79         3.31   \n",
       "3      2009.0        Sports     15.75     11.01      3.28         2.96   \n",
       "4      1996.0  Role-Playing     11.27      8.89     10.22         1.00   \n",
       "...       ...           ...       ...       ...       ...          ...   \n",
       "16593  2002.0      Platform      0.01      0.00      0.00         0.00   \n",
       "16594  2003.0       Shooter      0.01      0.00      0.00         0.00   \n",
       "16595  2008.0        Racing      0.00      0.00      0.00         0.00   \n",
       "16596  2010.0        Puzzle      0.00      0.01      0.00         0.00   \n",
       "16597  2003.0      Platform      0.01      0.00      0.00         0.00   \n",
       "\n",
       "       Global_Sales  \n",
       "0             82.74  \n",
       "1             40.24  \n",
       "2             35.82  \n",
       "3             33.00  \n",
       "4             31.37  \n",
       "...             ...  \n",
       "16593          0.01  \n",
       "16594          0.01  \n",
       "16595          0.01  \n",
       "16596          0.01  \n",
       "16597          0.01  \n",
       "\n",
       "[16598 rows x 10 columns]"
      ]
     },
     "execution_count": 9,
     "metadata": {},
     "output_type": "execute_result"
    }
   ],
   "source": [
    "#Hapus kolom publisher\n",
    "df.drop(columns='Publisher',inplace=True)\n",
    "df"
   ]
  },
  {
   "cell_type": "code",
   "execution_count": 10,
   "id": "129d5cfd",
   "metadata": {},
   "outputs": [
    {
     "data": {
      "text/html": [
       "<div>\n",
       "<style scoped>\n",
       "    .dataframe tbody tr th:only-of-type {\n",
       "        vertical-align: middle;\n",
       "    }\n",
       "\n",
       "    .dataframe tbody tr th {\n",
       "        vertical-align: top;\n",
       "    }\n",
       "\n",
       "    .dataframe thead th {\n",
       "        text-align: right;\n",
       "    }\n",
       "</style>\n",
       "<table border=\"1\" class=\"dataframe\">\n",
       "  <thead>\n",
       "    <tr style=\"text-align: right;\">\n",
       "      <th></th>\n",
       "      <th>Rank</th>\n",
       "      <th>Name</th>\n",
       "      <th>Platform</th>\n",
       "      <th>Year</th>\n",
       "      <th>Genre</th>\n",
       "      <th>NA_Sales</th>\n",
       "      <th>EU_Sales</th>\n",
       "      <th>JP_Sales</th>\n",
       "      <th>Other_Sales</th>\n",
       "      <th>Global_Sales</th>\n",
       "    </tr>\n",
       "  </thead>\n",
       "  <tbody>\n",
       "    <tr>\n",
       "      <th>0</th>\n",
       "      <td>1</td>\n",
       "      <td>Wii Sports</td>\n",
       "      <td>Wii</td>\n",
       "      <td>2006.0</td>\n",
       "      <td>Sports</td>\n",
       "      <td>41.49</td>\n",
       "      <td>29.02</td>\n",
       "      <td>3.77</td>\n",
       "      <td>8.46</td>\n",
       "      <td>82.74</td>\n",
       "    </tr>\n",
       "    <tr>\n",
       "      <th>1</th>\n",
       "      <td>2</td>\n",
       "      <td>Super Mario Bros.</td>\n",
       "      <td>NES</td>\n",
       "      <td>1985.0</td>\n",
       "      <td>Platform</td>\n",
       "      <td>29.08</td>\n",
       "      <td>3.58</td>\n",
       "      <td>6.81</td>\n",
       "      <td>0.77</td>\n",
       "      <td>40.24</td>\n",
       "    </tr>\n",
       "    <tr>\n",
       "      <th>2</th>\n",
       "      <td>3</td>\n",
       "      <td>Mario Kart Wii</td>\n",
       "      <td>Wii</td>\n",
       "      <td>2008.0</td>\n",
       "      <td>Racing</td>\n",
       "      <td>15.85</td>\n",
       "      <td>12.88</td>\n",
       "      <td>3.79</td>\n",
       "      <td>3.31</td>\n",
       "      <td>35.82</td>\n",
       "    </tr>\n",
       "    <tr>\n",
       "      <th>3</th>\n",
       "      <td>4</td>\n",
       "      <td>Wii Sports Resort</td>\n",
       "      <td>Wii</td>\n",
       "      <td>2009.0</td>\n",
       "      <td>Sports</td>\n",
       "      <td>15.75</td>\n",
       "      <td>11.01</td>\n",
       "      <td>3.28</td>\n",
       "      <td>2.96</td>\n",
       "      <td>33.00</td>\n",
       "    </tr>\n",
       "    <tr>\n",
       "      <th>4</th>\n",
       "      <td>5</td>\n",
       "      <td>Pokemon Red/Pokemon Blue</td>\n",
       "      <td>GB</td>\n",
       "      <td>1996.0</td>\n",
       "      <td>Role-Playing</td>\n",
       "      <td>11.27</td>\n",
       "      <td>8.89</td>\n",
       "      <td>10.22</td>\n",
       "      <td>1.00</td>\n",
       "      <td>31.37</td>\n",
       "    </tr>\n",
       "    <tr>\n",
       "      <th>...</th>\n",
       "      <td>...</td>\n",
       "      <td>...</td>\n",
       "      <td>...</td>\n",
       "      <td>...</td>\n",
       "      <td>...</td>\n",
       "      <td>...</td>\n",
       "      <td>...</td>\n",
       "      <td>...</td>\n",
       "      <td>...</td>\n",
       "      <td>...</td>\n",
       "    </tr>\n",
       "    <tr>\n",
       "      <th>16593</th>\n",
       "      <td>16596</td>\n",
       "      <td>Woody Woodpecker in Crazy Castle 5</td>\n",
       "      <td>GBA</td>\n",
       "      <td>2002.0</td>\n",
       "      <td>Platform</td>\n",
       "      <td>0.01</td>\n",
       "      <td>0.00</td>\n",
       "      <td>0.00</td>\n",
       "      <td>0.00</td>\n",
       "      <td>0.01</td>\n",
       "    </tr>\n",
       "    <tr>\n",
       "      <th>16594</th>\n",
       "      <td>16597</td>\n",
       "      <td>Men in Black II: Alien Escape</td>\n",
       "      <td>GC</td>\n",
       "      <td>2003.0</td>\n",
       "      <td>Shooter</td>\n",
       "      <td>0.01</td>\n",
       "      <td>0.00</td>\n",
       "      <td>0.00</td>\n",
       "      <td>0.00</td>\n",
       "      <td>0.01</td>\n",
       "    </tr>\n",
       "    <tr>\n",
       "      <th>16595</th>\n",
       "      <td>16598</td>\n",
       "      <td>SCORE International Baja 1000: The Official Game</td>\n",
       "      <td>PS2</td>\n",
       "      <td>2008.0</td>\n",
       "      <td>Racing</td>\n",
       "      <td>0.00</td>\n",
       "      <td>0.00</td>\n",
       "      <td>0.00</td>\n",
       "      <td>0.00</td>\n",
       "      <td>0.01</td>\n",
       "    </tr>\n",
       "    <tr>\n",
       "      <th>16596</th>\n",
       "      <td>16599</td>\n",
       "      <td>Know How 2</td>\n",
       "      <td>DS</td>\n",
       "      <td>2010.0</td>\n",
       "      <td>Puzzle</td>\n",
       "      <td>0.00</td>\n",
       "      <td>0.01</td>\n",
       "      <td>0.00</td>\n",
       "      <td>0.00</td>\n",
       "      <td>0.01</td>\n",
       "    </tr>\n",
       "    <tr>\n",
       "      <th>16597</th>\n",
       "      <td>16600</td>\n",
       "      <td>Spirits &amp; Spells</td>\n",
       "      <td>GBA</td>\n",
       "      <td>2003.0</td>\n",
       "      <td>Platform</td>\n",
       "      <td>0.01</td>\n",
       "      <td>0.00</td>\n",
       "      <td>0.00</td>\n",
       "      <td>0.00</td>\n",
       "      <td>0.01</td>\n",
       "    </tr>\n",
       "  </tbody>\n",
       "</table>\n",
       "<p>16327 rows × 10 columns</p>\n",
       "</div>"
      ],
      "text/plain": [
       "        Rank                                              Name Platform  \\\n",
       "0          1                                        Wii Sports      Wii   \n",
       "1          2                                 Super Mario Bros.      NES   \n",
       "2          3                                    Mario Kart Wii      Wii   \n",
       "3          4                                 Wii Sports Resort      Wii   \n",
       "4          5                          Pokemon Red/Pokemon Blue       GB   \n",
       "...      ...                                               ...      ...   \n",
       "16593  16596                Woody Woodpecker in Crazy Castle 5      GBA   \n",
       "16594  16597                     Men in Black II: Alien Escape       GC   \n",
       "16595  16598  SCORE International Baja 1000: The Official Game      PS2   \n",
       "16596  16599                                        Know How 2       DS   \n",
       "16597  16600                                  Spirits & Spells      GBA   \n",
       "\n",
       "         Year         Genre  NA_Sales  EU_Sales  JP_Sales  Other_Sales  \\\n",
       "0      2006.0        Sports     41.49     29.02      3.77         8.46   \n",
       "1      1985.0      Platform     29.08      3.58      6.81         0.77   \n",
       "2      2008.0        Racing     15.85     12.88      3.79         3.31   \n",
       "3      2009.0        Sports     15.75     11.01      3.28         2.96   \n",
       "4      1996.0  Role-Playing     11.27      8.89     10.22         1.00   \n",
       "...       ...           ...       ...       ...       ...          ...   \n",
       "16593  2002.0      Platform      0.01      0.00      0.00         0.00   \n",
       "16594  2003.0       Shooter      0.01      0.00      0.00         0.00   \n",
       "16595  2008.0        Racing      0.00      0.00      0.00         0.00   \n",
       "16596  2010.0        Puzzle      0.00      0.01      0.00         0.00   \n",
       "16597  2003.0      Platform      0.01      0.00      0.00         0.00   \n",
       "\n",
       "       Global_Sales  \n",
       "0             82.74  \n",
       "1             40.24  \n",
       "2             35.82  \n",
       "3             33.00  \n",
       "4             31.37  \n",
       "...             ...  \n",
       "16593          0.01  \n",
       "16594          0.01  \n",
       "16595          0.01  \n",
       "16596          0.01  \n",
       "16597          0.01  \n",
       "\n",
       "[16327 rows x 10 columns]"
      ]
     },
     "execution_count": 10,
     "metadata": {},
     "output_type": "execute_result"
    }
   ],
   "source": [
    "#Hapus row yang memiliki missing value\n",
    "df.dropna(inplace=True)\n",
    "df"
   ]
  },
  {
   "cell_type": "code",
   "execution_count": 11,
   "id": "f227bbb4",
   "metadata": {},
   "outputs": [],
   "source": [
    "#Save clean dataset untuk visualisasi\n",
    "df.to_csv('P0M1_dylan_sherwood_dataset_clean.csv')"
   ]
  },
  {
   "cell_type": "markdown",
   "id": "340f0490",
   "metadata": {},
   "source": [
    "# v. Exploration and Analysis"
   ]
  },
  {
   "cell_type": "markdown",
   "id": "f65d0c85",
   "metadata": {},
   "source": [
    "## Mencari jumlah game per genre"
   ]
  },
  {
   "cell_type": "code",
   "execution_count": 12,
   "id": "b7af47b6",
   "metadata": {},
   "outputs": [
    {
     "data": {
      "text/plain": [
       "Genre\n",
       "Action          3253\n",
       "Sports          2304\n",
       "Misc            1710\n",
       "Role-Playing    1471\n",
       "Shooter         1282\n",
       "Adventure       1276\n",
       "Racing          1226\n",
       "Platform         876\n",
       "Simulation       851\n",
       "Fighting         836\n",
       "Strategy         671\n",
       "Puzzle           571\n",
       "Name: count, dtype: int64"
      ]
     },
     "execution_count": 12,
     "metadata": {},
     "output_type": "execute_result"
    }
   ],
   "source": [
    "df.Genre.value_counts()"
   ]
  },
  {
   "cell_type": "code",
   "execution_count": 13,
   "id": "47fefbff",
   "metadata": {},
   "outputs": [],
   "source": [
    "import seaborn as sns"
   ]
  },
  {
   "cell_type": "markdown",
   "id": "3630903b",
   "metadata": {},
   "source": [
    "## Mencari penjualan genre game dengan penjualan terbanyak/terkecil Dalam 5 tahun terakhir"
   ]
  },
  {
   "cell_type": "code",
   "execution_count": 14,
   "id": "93141bda",
   "metadata": {},
   "outputs": [
    {
     "data": {
      "text/html": [
       "<div>\n",
       "<style scoped>\n",
       "    .dataframe tbody tr th:only-of-type {\n",
       "        vertical-align: middle;\n",
       "    }\n",
       "\n",
       "    .dataframe tbody tr th {\n",
       "        vertical-align: top;\n",
       "    }\n",
       "\n",
       "    .dataframe thead th {\n",
       "        text-align: right;\n",
       "    }\n",
       "</style>\n",
       "<table border=\"1\" class=\"dataframe\">\n",
       "  <thead>\n",
       "    <tr style=\"text-align: right;\">\n",
       "      <th></th>\n",
       "      <th>Genre</th>\n",
       "      <th>Global_Sales</th>\n",
       "    </tr>\n",
       "  </thead>\n",
       "  <tbody>\n",
       "    <tr>\n",
       "      <th>10</th>\n",
       "      <td>Strategy</td>\n",
       "      <td>0.50</td>\n",
       "    </tr>\n",
       "    <tr>\n",
       "      <th>0</th>\n",
       "      <td>Action</td>\n",
       "      <td>19.92</td>\n",
       "    </tr>\n",
       "  </tbody>\n",
       "</table>\n",
       "</div>"
      ],
      "text/plain": [
       "       Genre  Global_Sales\n",
       "10  Strategy          0.50\n",
       "0     Action         19.92"
      ]
     },
     "metadata": {},
     "output_type": "display_data"
    },
    {
     "data": {
      "image/png": "[encoded data removed]",
      "text/plain": [
       "<Figure size 640x480 with 1 Axes>"
      ]
     },
     "metadata": {},
     "output_type": "display_data"
    }
   ],
   "source": [
    "totalSold5Years= df[['Genre','Global_Sales']][df.Year > 2015]\n",
    "totalSold5Years = totalSold5Years.groupby('Genre').Global_Sales.agg('sum')\n",
    "totalSold5Years = totalSold5Years.to_frame()\n",
    "totalSold5Years.reset_index(inplace=True)\n",
    "min = totalSold5Years.Global_Sales.min()\n",
    "max = totalSold5Years.Global_Sales.max()\n",
    "\n",
    "totalSoldMin = totalSold5Years[ totalSold5Years.Global_Sales == min]\n",
    "totalSoldMax = totalSold5Years[ totalSold5Years.Global_Sales == max]\n",
    "minMax5Years = pd.concat([totalSoldMin,totalSoldMax])\n",
    "sns.barplot(data=minMax5Years, x='Genre',y='Global_Sales', orient='v')\n",
    "display(minMax5Years)"
   ]
  },
  {
   "cell_type": "markdown",
   "id": "8687c169",
   "metadata": {},
   "source": [
    "Dari hasil diatas dapat disimpulkan bahwa dalam 5 tahun terakhir, genre yang paling banyak terjual secara global adalah Action sedangkan genre dengan penjualan paling sedikit adalah Strategy"
   ]
  },
  {
   "cell_type": "markdown",
   "id": "7ee5e242",
   "metadata": {},
   "source": [
    "## Mencari penjualan genre game dengan penjualan terbanyak/terkecil"
   ]
  },
  {
   "cell_type": "code",
   "execution_count": 15,
   "id": "99493573",
   "metadata": {},
   "outputs": [
    {
     "data": {
      "text/html": [
       "<div>\n",
       "<style scoped>\n",
       "    .dataframe tbody tr th:only-of-type {\n",
       "        vertical-align: middle;\n",
       "    }\n",
       "\n",
       "    .dataframe tbody tr th {\n",
       "        vertical-align: top;\n",
       "    }\n",
       "\n",
       "    .dataframe thead th {\n",
       "        text-align: right;\n",
       "    }\n",
       "</style>\n",
       "<table border=\"1\" class=\"dataframe\">\n",
       "  <thead>\n",
       "    <tr style=\"text-align: right;\">\n",
       "      <th></th>\n",
       "      <th>Genre</th>\n",
       "      <th>Global_Sales</th>\n",
       "    </tr>\n",
       "  </thead>\n",
       "  <tbody>\n",
       "    <tr>\n",
       "      <th>11</th>\n",
       "      <td>Strategy</td>\n",
       "      <td>173.43</td>\n",
       "    </tr>\n",
       "    <tr>\n",
       "      <th>0</th>\n",
       "      <td>Action</td>\n",
       "      <td>1722.88</td>\n",
       "    </tr>\n",
       "  </tbody>\n",
       "</table>\n",
       "</div>"
      ],
      "text/plain": [
       "       Genre  Global_Sales\n",
       "11  Strategy        173.43\n",
       "0     Action       1722.88"
      ]
     },
     "metadata": {},
     "output_type": "display_data"
    },
    {
     "data": {
      "image/png": "[encoded data removed]",
      "text/plain": [
       "<Figure size 640x480 with 1 Axes>"
      ]
     },
     "metadata": {},
     "output_type": "display_data"
    }
   ],
   "source": [
    "totalSold= df[['Genre','Global_Sales']]\n",
    "totalSold = totalSold.groupby('Genre').Global_Sales.agg('sum')\n",
    "totalSold = totalSold.to_frame()\n",
    "totalSold.reset_index(inplace=True)\n",
    "\n",
    "min = totalSold.Global_Sales.min()\n",
    "max = totalSold.Global_Sales.max()\n",
    "\n",
    "totalSoldMin = totalSold[ totalSold.Global_Sales == min]\n",
    "totalSoldMax = totalSold[ totalSold.Global_Sales == max]\n",
    "minMaxTotGlobal = pd.concat([totalSoldMin,totalSoldMax])\n",
    "sns.barplot(data=minMaxTotGlobal, x='Genre',y='Global_Sales', orient='v')\n",
    "display(minMaxTotGlobal)"
   ]
  },
  {
   "cell_type": "markdown",
   "id": "a9e225e7",
   "metadata": {},
   "source": [
    "Dari hasil diatas, dapat disimpulkan bahwa secara keseluruhan, genre dengan penjualan terbanyak adalah Action, sedangkan genre dengan penjualan paling sedikit adalah Strategy"
   ]
  },
  {
   "cell_type": "markdown",
   "id": "dfd05308",
   "metadata": {},
   "source": [
    "## Genre paling banyak terjual per Region"
   ]
  },
  {
   "cell_type": "code",
   "execution_count": 16,
   "id": "0e6c9182",
   "metadata": {},
   "outputs": [
    {
     "data": {
      "text/html": [
       "<div>\n",
       "<style scoped>\n",
       "    .dataframe tbody tr th:only-of-type {\n",
       "        vertical-align: middle;\n",
       "    }\n",
       "\n",
       "    .dataframe tbody tr th {\n",
       "        vertical-align: top;\n",
       "    }\n",
       "\n",
       "    .dataframe thead th {\n",
       "        text-align: right;\n",
       "    }\n",
       "</style>\n",
       "<table border=\"1\" class=\"dataframe\">\n",
       "  <thead>\n",
       "    <tr style=\"text-align: right;\">\n",
       "      <th></th>\n",
       "      <th>NA_Sales</th>\n",
       "      <th>EU_Sales</th>\n",
       "      <th>JP_Sales</th>\n",
       "      <th>Other_Sales</th>\n",
       "    </tr>\n",
       "    <tr>\n",
       "      <th>Genre</th>\n",
       "      <th></th>\n",
       "      <th></th>\n",
       "      <th></th>\n",
       "      <th></th>\n",
       "    </tr>\n",
       "  </thead>\n",
       "  <tbody>\n",
       "    <tr>\n",
       "      <th>Action</th>\n",
       "      <td>861.80</td>\n",
       "      <td>516.48</td>\n",
       "      <td>158.66</td>\n",
       "      <td>184.92</td>\n",
       "    </tr>\n",
       "    <tr>\n",
       "      <th>Adventure</th>\n",
       "      <td>102.06</td>\n",
       "      <td>63.79</td>\n",
       "      <td>52.01</td>\n",
       "      <td>16.70</td>\n",
       "    </tr>\n",
       "    <tr>\n",
       "      <th>Fighting</th>\n",
       "      <td>220.74</td>\n",
       "      <td>100.00</td>\n",
       "      <td>87.15</td>\n",
       "      <td>36.19</td>\n",
       "    </tr>\n",
       "    <tr>\n",
       "      <th>Misc</th>\n",
       "      <td>402.48</td>\n",
       "      <td>213.82</td>\n",
       "      <td>106.67</td>\n",
       "      <td>74.02</td>\n",
       "    </tr>\n",
       "    <tr>\n",
       "      <th>Platform</th>\n",
       "      <td>445.99</td>\n",
       "      <td>200.67</td>\n",
       "      <td>130.65</td>\n",
       "      <td>51.51</td>\n",
       "    </tr>\n",
       "    <tr>\n",
       "      <th>Puzzle</th>\n",
       "      <td>122.01</td>\n",
       "      <td>50.53</td>\n",
       "      <td>56.68</td>\n",
       "      <td>12.47</td>\n",
       "    </tr>\n",
       "    <tr>\n",
       "      <th>Racing</th>\n",
       "      <td>356.93</td>\n",
       "      <td>236.32</td>\n",
       "      <td>56.61</td>\n",
       "      <td>76.68</td>\n",
       "    </tr>\n",
       "    <tr>\n",
       "      <th>Role-Playing</th>\n",
       "      <td>326.50</td>\n",
       "      <td>187.58</td>\n",
       "      <td>350.29</td>\n",
       "      <td>59.38</td>\n",
       "    </tr>\n",
       "    <tr>\n",
       "      <th>Shooter</th>\n",
       "      <td>575.16</td>\n",
       "      <td>310.45</td>\n",
       "      <td>38.18</td>\n",
       "      <td>101.90</td>\n",
       "    </tr>\n",
       "    <tr>\n",
       "      <th>Simulation</th>\n",
       "      <td>181.78</td>\n",
       "      <td>113.20</td>\n",
       "      <td>63.54</td>\n",
       "      <td>31.36</td>\n",
       "    </tr>\n",
       "    <tr>\n",
       "      <th>Sports</th>\n",
       "      <td>670.09</td>\n",
       "      <td>371.34</td>\n",
       "      <td>134.76</td>\n",
       "      <td>132.65</td>\n",
       "    </tr>\n",
       "    <tr>\n",
       "      <th>Strategy</th>\n",
       "      <td>67.89</td>\n",
       "      <td>44.94</td>\n",
       "      <td>49.10</td>\n",
       "      <td>11.23</td>\n",
       "    </tr>\n",
       "  </tbody>\n",
       "</table>\n",
       "</div>"
      ],
      "text/plain": [
       "              NA_Sales  EU_Sales  JP_Sales  Other_Sales\n",
       "Genre                                                  \n",
       "Action          861.80    516.48    158.66       184.92\n",
       "Adventure       102.06     63.79     52.01        16.70\n",
       "Fighting        220.74    100.00     87.15        36.19\n",
       "Misc            402.48    213.82    106.67        74.02\n",
       "Platform        445.99    200.67    130.65        51.51\n",
       "Puzzle          122.01     50.53     56.68        12.47\n",
       "Racing          356.93    236.32     56.61        76.68\n",
       "Role-Playing    326.50    187.58    350.29        59.38\n",
       "Shooter         575.16    310.45     38.18       101.90\n",
       "Simulation      181.78    113.20     63.54        31.36\n",
       "Sports          670.09    371.34    134.76       132.65\n",
       "Strategy         67.89     44.94     49.10        11.23"
      ]
     },
     "metadata": {},
     "output_type": "display_data"
    },
    {
     "data": {
      "image/png": "[encoded data removed]",
      "text/plain": [
       "<Figure size 640x480 with 1 Axes>"
      ]
     },
     "metadata": {},
     "output_type": "display_data"
    }
   ],
   "source": [
    "perReg = df.groupby('Genre').agg({'NA_Sales':'sum','EU_Sales':'sum','JP_Sales':'sum','Other_Sales':'sum'})\n",
    "perReg.plot(kind='barh')\n",
    "display(perReg)"
   ]
  },
  {
   "cell_type": "markdown",
   "id": "e0f8d659",
   "metadata": {},
   "source": [
    "Dari data diatas, dapat disimpulkan bahwa penjualan paling banyak dari semua genre selain Role-Playing adalah region NA. Role-Playing paling banyak terjual di region EU"
   ]
  },
  {
   "cell_type": "markdown",
   "id": "f988c3d1",
   "metadata": {},
   "source": [
    "## Rata-Rata Penjualan Game Per Genre"
   ]
  },
  {
   "cell_type": "code",
   "execution_count": 17,
   "id": "e37b4713",
   "metadata": {},
   "outputs": [
    {
     "data": {
      "text/html": [
       "<div>\n",
       "<style scoped>\n",
       "    .dataframe tbody tr th:only-of-type {\n",
       "        vertical-align: middle;\n",
       "    }\n",
       "\n",
       "    .dataframe tbody tr th {\n",
       "        vertical-align: top;\n",
       "    }\n",
       "\n",
       "    .dataframe thead th {\n",
       "        text-align: right;\n",
       "    }\n",
       "</style>\n",
       "<table border=\"1\" class=\"dataframe\">\n",
       "  <thead>\n",
       "    <tr style=\"text-align: right;\">\n",
       "      <th></th>\n",
       "      <th>Global_Sales</th>\n",
       "    </tr>\n",
       "    <tr>\n",
       "      <th>Genre</th>\n",
       "      <th></th>\n",
       "    </tr>\n",
       "  </thead>\n",
       "  <tbody>\n",
       "    <tr>\n",
       "      <th>Action</th>\n",
       "      <td>0.529628</td>\n",
       "    </tr>\n",
       "    <tr>\n",
       "      <th>Adventure</th>\n",
       "      <td>0.184013</td>\n",
       "    </tr>\n",
       "    <tr>\n",
       "      <th>Fighting</th>\n",
       "      <td>0.531160</td>\n",
       "    </tr>\n",
       "    <tr>\n",
       "      <th>Misc</th>\n",
       "      <td>0.466444</td>\n",
       "    </tr>\n",
       "    <tr>\n",
       "      <th>Platform</th>\n",
       "      <td>0.946518</td>\n",
       "    </tr>\n",
       "    <tr>\n",
       "      <th>Puzzle</th>\n",
       "      <td>0.424203</td>\n",
       "    </tr>\n",
       "    <tr>\n",
       "      <th>Racing</th>\n",
       "      <td>0.592798</td>\n",
       "    </tr>\n",
       "    <tr>\n",
       "      <th>Role-Playing</th>\n",
       "      <td>0.628035</td>\n",
       "    </tr>\n",
       "    <tr>\n",
       "      <th>Shooter</th>\n",
       "      <td>0.800468</td>\n",
       "    </tr>\n",
       "    <tr>\n",
       "      <th>Simulation</th>\n",
       "      <td>0.458472</td>\n",
       "    </tr>\n",
       "    <tr>\n",
       "      <th>Sports</th>\n",
       "      <td>0.568247</td>\n",
       "    </tr>\n",
       "    <tr>\n",
       "      <th>Strategy</th>\n",
       "      <td>0.258465</td>\n",
       "    </tr>\n",
       "  </tbody>\n",
       "</table>\n",
       "</div>"
      ],
      "text/plain": [
       "              Global_Sales\n",
       "Genre                     \n",
       "Action            0.529628\n",
       "Adventure         0.184013\n",
       "Fighting          0.531160\n",
       "Misc              0.466444\n",
       "Platform          0.946518\n",
       "Puzzle            0.424203\n",
       "Racing            0.592798\n",
       "Role-Playing      0.628035\n",
       "Shooter           0.800468\n",
       "Simulation        0.458472\n",
       "Sports            0.568247\n",
       "Strategy          0.258465"
      ]
     },
     "metadata": {},
     "output_type": "display_data"
    },
    {
     "data": {
      "text/plain": [
       "<Axes: ylabel='Genre'>"
      ]
     },
     "execution_count": 17,
     "metadata": {},
     "output_type": "execute_result"
    },
    {
     "data": {
      "image/png": "[encoded data removed]",
      "text/plain": [
       "<Figure size 640x480 with 1 Axes>"
      ]
     },
     "metadata": {},
     "output_type": "display_data"
    }
   ],
   "source": [
    "perRegAvg = df.groupby('Genre').agg({'Global_Sales':'mean'})\n",
    "display(perRegAvg)\n",
    "perRegAvg.plot(kind='barh')"
   ]
  },
  {
   "cell_type": "markdown",
   "id": "b5bdf343",
   "metadata": {},
   "source": [
    "Data diatas menunjukkan hasil rata-rata sales per genre. Hal yang menarik adalah genre action memiliiki rata-rata lebih rendah dibandingkan dengan platform. Ini menunjukkan bahwa platform memiliki rata-rata penjualan yang banyak."
   ]
  },
  {
   "cell_type": "markdown",
   "id": "9d8740e5",
   "metadata": {},
   "source": [
    "## v. Pengumpulan Data Penjualan Pada Genre Yang Paling Banyak Terjual"
   ]
  },
  {
   "cell_type": "code",
   "execution_count": 18,
   "id": "e318ae28",
   "metadata": {},
   "outputs": [
    {
     "name": "stdout",
     "output_type": "stream",
     "text": [
      "0.5296280356593913\n",
      "0.19\n",
      "0    0.02\n",
      "Name: Global_Sales, dtype: float64\n"
     ]
    }
   ],
   "source": [
    "simGames = df\n",
    "simGames = simGames[ simGames.Genre == 'Action' ]\n",
    "print(simGames.Global_Sales.mean())\n",
    "print(simGames.Global_Sales.median())\n",
    "print(simGames.Global_Sales.mode())"
   ]
  },
  {
   "cell_type": "markdown",
   "id": "4fbde31f",
   "metadata": {},
   "source": [
    "Dari hasil diatas, dapat dilihat penjualan paling banyak berada di angka 0.02 (20 ribu). Nilai median dan rata-rata berbeda sebanyak .31 poin\n",
    "\n",
    "Hal ini menyatakan kalau datanya tidak normal. Arti dari statement itu adalah, saat release, ekspektasi penjualan adalah sekitar 200 ribu unit. Akan tetapi ada kemungkinan penjualannya bisa jauh dibawah ekspektasi atau jauh diatas ekspektasi."
   ]
  },
  {
   "cell_type": "markdown",
   "id": "7d571e06",
   "metadata": {},
   "source": [
    "## vi. Membuktikan hipotesis: Jumlah penjualan game dengan genre Adventure di region EU > region JP"
   ]
  },
  {
   "cell_type": "markdown",
   "id": "24d20b62",
   "metadata": {},
   "source": [
    "Metode yang digunakan untuk membuktikan hipotesis adalah metode Two-Sample Independent Test.\n",
    "\n",
    "Ini karena data yang akan dites tidak ada hubungannya sama sekali dan data yang akan ditest berada di 2 kolom saja."
   ]
  },
  {
   "cell_type": "code",
   "execution_count": 19,
   "id": "2c3ea03b",
   "metadata": {},
   "outputs": [
    {
     "data": {
      "text/html": [
       "<div>\n",
       "<style scoped>\n",
       "    .dataframe tbody tr th:only-of-type {\n",
       "        vertical-align: middle;\n",
       "    }\n",
       "\n",
       "    .dataframe tbody tr th {\n",
       "        vertical-align: top;\n",
       "    }\n",
       "\n",
       "    .dataframe thead th {\n",
       "        text-align: right;\n",
       "    }\n",
       "</style>\n",
       "<table border=\"1\" class=\"dataframe\">\n",
       "  <thead>\n",
       "    <tr style=\"text-align: right;\">\n",
       "      <th></th>\n",
       "      <th>Genre</th>\n",
       "      <th>EU_Sales</th>\n",
       "      <th>JP_Sales</th>\n",
       "    </tr>\n",
       "  </thead>\n",
       "  <tbody>\n",
       "    <tr>\n",
       "      <th>50</th>\n",
       "      <td>Adventure</td>\n",
       "      <td>2.04</td>\n",
       "      <td>2.69</td>\n",
       "    </tr>\n",
       "    <tr>\n",
       "      <th>158</th>\n",
       "      <td>Adventure</td>\n",
       "      <td>1.65</td>\n",
       "      <td>0.07</td>\n",
       "    </tr>\n",
       "    <tr>\n",
       "      <th>218</th>\n",
       "      <td>Adventure</td>\n",
       "      <td>2.00</td>\n",
       "      <td>0.09</td>\n",
       "    </tr>\n",
       "    <tr>\n",
       "      <th>251</th>\n",
       "      <td>Adventure</td>\n",
       "      <td>0.50</td>\n",
       "      <td>1.61</td>\n",
       "    </tr>\n",
       "    <tr>\n",
       "      <th>400</th>\n",
       "      <td>Adventure</td>\n",
       "      <td>1.53</td>\n",
       "      <td>0.00</td>\n",
       "    </tr>\n",
       "    <tr>\n",
       "      <th>...</th>\n",
       "      <td>...</td>\n",
       "      <td>...</td>\n",
       "      <td>...</td>\n",
       "    </tr>\n",
       "    <tr>\n",
       "      <th>16572</th>\n",
       "      <td>Adventure</td>\n",
       "      <td>0.00</td>\n",
       "      <td>0.01</td>\n",
       "    </tr>\n",
       "    <tr>\n",
       "      <th>16575</th>\n",
       "      <td>Adventure</td>\n",
       "      <td>0.00</td>\n",
       "      <td>0.01</td>\n",
       "    </tr>\n",
       "    <tr>\n",
       "      <th>16580</th>\n",
       "      <td>Adventure</td>\n",
       "      <td>0.00</td>\n",
       "      <td>0.01</td>\n",
       "    </tr>\n",
       "    <tr>\n",
       "      <th>16586</th>\n",
       "      <td>Adventure</td>\n",
       "      <td>0.01</td>\n",
       "      <td>0.00</td>\n",
       "    </tr>\n",
       "    <tr>\n",
       "      <th>16591</th>\n",
       "      <td>Adventure</td>\n",
       "      <td>0.00</td>\n",
       "      <td>0.00</td>\n",
       "    </tr>\n",
       "  </tbody>\n",
       "</table>\n",
       "<p>1276 rows × 3 columns</p>\n",
       "</div>"
      ],
      "text/plain": [
       "           Genre  EU_Sales  JP_Sales\n",
       "50     Adventure      2.04      2.69\n",
       "158    Adventure      1.65      0.07\n",
       "218    Adventure      2.00      0.09\n",
       "251    Adventure      0.50      1.61\n",
       "400    Adventure      1.53      0.00\n",
       "...          ...       ...       ...\n",
       "16572  Adventure      0.00      0.01\n",
       "16575  Adventure      0.00      0.01\n",
       "16580  Adventure      0.00      0.01\n",
       "16586  Adventure      0.01      0.00\n",
       "16591  Adventure      0.00      0.00\n",
       "\n",
       "[1276 rows x 3 columns]"
      ]
     },
     "execution_count": 19,
     "metadata": {},
     "output_type": "execute_result"
    }
   ],
   "source": [
    "#mengambil kolom EU_Sales, JP_Sales, dan Genre\n",
    "advGames = df[['Genre','EU_Sales','JP_Sales']][ df.Genre == 'Adventure' ]\n",
    "advGames"
   ]
  },
  {
   "cell_type": "code",
   "execution_count": 20,
   "id": "5dc4e5ae",
   "metadata": {},
   "outputs": [],
   "source": [
    "#pisahkan kedua kolom menjadi variabel sendiri\n",
    "euSales = advGames.EU_Sales\n",
    "jpSales = advGames.JP_Sales"
   ]
  },
  {
   "cell_type": "markdown",
   "id": "0d7ebb20",
   "metadata": {},
   "source": [
    "H0: EU Sales <= JP sales\n",
    "\n",
    "H1: EU Sales > JP Sales"
   ]
  },
  {
   "cell_type": "code",
   "execution_count": 21,
   "id": "303da969",
   "metadata": {},
   "outputs": [],
   "source": [
    "#import stats dari scipy untuk test\n",
    "from scipy import stats"
   ]
  },
  {
   "cell_type": "code",
   "execution_count": 22,
   "id": "ae4f0e0a",
   "metadata": {},
   "outputs": [
    {
     "name": "stdout",
     "output_type": "stream",
     "text": [
      "T-Statistic:  1.5399584714276355\n",
      "P-value:  0.12369455029858215\n"
     ]
    }
   ],
   "source": [
    "t_stat,p_val = stats.ttest_ind(euSales,jpSales)\n",
    "print(\"T-Statistic: \",t_stat)\n",
    "print(\"P-value: \",p_val)"
   ]
  },
  {
   "cell_type": "markdown",
   "id": "5980f4b7",
   "metadata": {},
   "source": [
    "Karena P-value memiliki nilai diatas 0.05, maka hipotesa H0 yang dijabarkan telah terbukti. Arti dari hasil tersebut adalah penjualan game dengan genre Adventure di EU dan JP tidak berbeda jauh."
   ]
  },
  {
   "cell_type": "markdown",
   "id": "b0ab1fd9",
   "metadata": {},
   "source": [
    "# vi. Conclusion"
   ]
  },
  {
   "cell_type": "markdown",
   "id": "d4b301ef",
   "metadata": {},
   "source": [
    "Setelah melakukan tes-tes diatas, dapat dilihat bahwa genre yang paling laku dalam 5 tahun terakhir dan semenjak awal genre Action. Akan tetapi, Platform game memiliki rata-rata penjualan yang sangat bagus.\n",
    "\n",
    "Untuk menentukan apa genre yang direkomendasikan, kita dapat melihat jumlah game pada kedua genre tersebut, dan dapat dilihat bahwa jumlah game pada genre Platform yang lebih banyak daripada Action. Ini menandakan bahwa dalam waktu dekat setelah game di-release, kemungkinan besar akan ada banyak pemain yang membeli dan memainkan game tersebut.\n",
    "\n",
    "Selain itu, penjualan game genre Simulasi penjualannya paling banyak berada di angka 200 ribu copies yang terjual. jadi kemungkinan besar, jumlah pemain yang memainkan game Action tidak sebanyak jumlah pemain Platform.\n",
    "\n",
    "Lalu dapat dilihat bahwa penjualan di daerah Europe lebih besar in general daripada jepang. Ini dibuktikan dengan melakukan tes hipotesa yang telah terbukt dengan nilai p-value diatas 0.05. Tentu saja penjualan terbanyak dipegang oleh region NA\n",
    "\n",
    "Maka dari itu, Genre yang direkomendasikan untuk JoGames Studio untuk game mereka selanjutnya adalah game dengan genre Platform. Genre ini memiliki rata-rata pembelian yang baik."
   ]
  },
  {
   "cell_type": "markdown",
   "id": "29b916d2",
   "metadata": {},
   "source": [
    "# Link Tableau\n",
    "https://public.tableau.com/views/Milestone1DataVisualization_17477321637660/TotalGlobalSalesDiff?:language=en-US&publish=yes&:sid=&:redirect=auth&:display_count=n&:origin=viz_share_link"
   ]
  }
 ],
 "metadata": {
  "kernelspec": {
   "display_name": "exercise",
   "language": "python",
   "name": "python3"
  },
  "language_info": {
   "codemirror_mode": {
    "name": "ipython",
    "version": 3
   },
   "file_extension": ".py",
   "mimetype": "text/x-python",
   "name": "python",
   "nbconvert_exporter": "python",
   "pygments_lexer": "ipython3",
   "version": "3.13.2"
  }
 },
 "nbformat": 4,
 "nbformat_minor": 5
}
